{
 "cells": [
  {
   "cell_type": "code",
   "execution_count": 4,
   "metadata": {},
   "outputs": [
    {
     "name": "stdout",
     "output_type": "stream",
     "text": [
      "<class 'list'>\n",
      "Pending tasks: ['Buy groceries', 'Walk the dog', 'Call the plumber', 'Complete project report', 'Prepare presentation', 'new item']\n"
     ]
    }
   ],
   "source": [
    "import json\n",
    "\n",
    "# Correct path based on your structure\n",
    "with open('utils/data/YourTechBud.json', 'r') as file:\n",
    "    tasks_raw = json.load(file)\n",
    "\n",
    "# Verify data structure\n",
    "print(type(tasks_raw))  # Should be <class 'list'>\n",
    "\n",
    "# Safely extract pending tasks\n",
    "if isinstance(tasks_raw, list):\n",
    "    tasks = [task[\"title\"] for task in tasks_raw if isinstance(task, dict) and not task.get(\"isDone\", True)]\n",
    "    print(\"Pending tasks:\", tasks)\n",
    "else:\n",
    "    print(\"Error: tasks_raw is not a list\")\n"
   ]
  },
  {
   "cell_type": "code",
   "execution_count": 5,
   "metadata": {},
   "outputs": [
    {
     "name": "stdout",
     "output_type": "stream",
     "text": [
      "<class 'list'>\n",
      "Pending tasks: ['Buy groceries', 'Walk the dog', 'Call the plumber', 'Complete project report', 'Prepare presentation', 'new item']\n"
     ]
    }
   ],
   "source": [
    "import json\n",
    "\n",
    "# Test Code\n",
    "with open('utils/data/YourTechBud.json', 'r') as file:\n",
    "    tasks_raw = json.load(file)\n",
    "\n",
    "# Ensure data is structured correctly\n",
    "if isinstance(tasks_raw, list):\n",
    "    pending_tasks = [task[\"title\"] for task in tasks_raw if not task.get(\"isDone\", False)]\n",
    "    print(f\"<class 'list'>\\nPending tasks: {pending_tasks}\")\n",
    "else:\n",
    "    print(\"❌ Error: Data format is incorrect.\")\n"
   ]
  },
  {
   "cell_type": "code",
   "execution_count": null,
   "metadata": {},
   "outputs": [],
   "source": []
  }
 ],
 "metadata": {
  "kernelspec": {
   "display_name": "env",
   "language": "python",
   "name": "python3"
  },
  "language_info": {
   "codemirror_mode": {
    "name": "ipython",
    "version": 3
   },
   "file_extension": ".py",
   "mimetype": "text/x-python",
   "name": "python",
   "nbconvert_exporter": "python",
   "pygments_lexer": "ipython3",
   "version": "3.11.9"
  }
 },
 "nbformat": 4,
 "nbformat_minor": 2
}
